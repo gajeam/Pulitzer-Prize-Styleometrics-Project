{
 "cells": [
  {
   "cell_type": "markdown",
   "metadata": {},
   "source": [
    "# Feature Engineering and Classification for Metaphor"
   ]
  },
  {
   "cell_type": "code",
   "execution_count": 27,
   "metadata": {
    "collapsed": false
   },
   "outputs": [],
   "source": [
    "from collections import Counter\n",
    "from nltk.corpus import wordnet as wn\n",
    "from nltk import word_tokenize\n",
    "from random import shuffle\n",
    "import pandas as pd\n",
    "import numpy as np\n",
    "from sklearn.feature_extraction import DictVectorizer\n",
    "from sklearn.feature_extraction.text import TfidfVectorizer\n",
    "from sklearn.linear_model import LogisticRegression\n",
    "from sklearn.pipeline import Pipeline\n",
    "from sklearn.svm import LinearSVC\n",
    "from sklearn.svm import SVC\n",
    "from sklearn.ensemble import RandomForestClassifier\n",
    "from sklearn.utils.extmath import density\n",
    "from sklearn.metrics import classification_report\n",
    "from sklearn.metrics import confusion_matrix\n",
    "from sklearn.metrics import accuracy_score\n",
    "from sklearn.cross_validation import KFold\n",
    "from sklearn.grid_search import GridSearchCV\n",
    "from nltk.corpus import wordnet as wn\n",
    "from sklearn.base import BaseEstimator, TransformerMixin\n",
    "from sklearn.pipeline import FeatureUnion\n",
    "from sklearn.externals import joblib\n",
    "import nltk"
   ]
  },
  {
   "cell_type": "code",
   "execution_count": 28,
   "metadata": {
    "collapsed": false
   },
   "outputs": [
    {
     "data": {
      "text/plain": [
       "{'NN': 3}"
      ]
     },
     "execution_count": 28,
     "metadata": {},
     "output_type": "execute_result"
    }
   ],
   "source": [
    "def generate_features(wordphrase):\n",
    "    features = {}\n",
    "    POS_bucket = []\n",
    "    wordphrase = wordphrase.lower()\n",
    "#     for line in wordphrase:\n",
    "#         for word in line:\n",
    "#             POS = nltk.pos_tag(word)\n",
    "#             POS_bucket.append(POS[0][1])\n",
    "    features = featurize_pos_list(get_pos_list_from_ngram(wordphrase), features)\n",
    "    return features\n",
    "generate_features('veni vidi vici') "
   ]
  },
  {
   "cell_type": "code",
   "execution_count": 22,
   "metadata": {
    "collapsed": true
   },
   "outputs": [],
   "source": [
    "def get_letter_combinations(candidate, features, number):\n",
    "    candidate = candidate.replace(\" \", \"\")\n",
    "    if len(candidate) < number:\n",
    "        return features\n",
    "    else:\n",
    "        for index in range(0, len(candidate), number):\n",
    "            features[candidate[index:index + number]] += 1\n",
    "        return features"
   ]
  },
  {
   "cell_type": "code",
   "execution_count": 21,
   "metadata": {
    "collapsed": true
   },
   "outputs": [],
   "source": [
    "def featurize_pos_list(pos_list, features):\n",
    "    for pos in pos_list:\n",
    "        if pos in features.keys():\n",
    "            features[pos] += 1\n",
    "        else:\n",
    "            features[pos] = 1\n",
    "    return features\n",
    "\n",
    "def get_pos_list_from_ngram(ngram):\n",
    "    ngram_tagged = nltk.pos_tag(ngram.split())\n",
    "    pos_list = [tagged_word[1] for tagged_word in ngram_tagged]\n",
    "    return pos_list\n",
    "        \n",
    "    \n",
    "    "
   ]
  },
  {
   "cell_type": "code",
   "execution_count": 39,
   "metadata": {
    "collapsed": true
   },
   "outputs": [],
   "source": [
    "# This function allows experimentation with different feature definitions\n",
    "# items is a list of (key, value) pairs from which features are extracted and training sets are made\n",
    "# Feature sets returned are dictionaries of features\n",
    "\n",
    "# This function also optionally returns the names of the training, development, \n",
    "# and test data for the purposes of error checking\n",
    "\n",
    "def create_training_sets (feature_function, items, return_items=False):\n",
    "    # Create the features sets.  Call the function that was passed in.\n",
    "    # For names data, key is the name, and value is the gender\n",
    "    shuffle(items)\n",
    "    featuresets = [(feature_function(key), value, key) for (key, value) in items]\n",
    "    \n",
    "    # Divided training and testing in thirds.  Could divide in other proportions instead.\n",
    "    fifth = int(float(len(featuresets)) / 5.0)\n",
    "    \n",
    "    train_set, dev_set, test_set = featuresets[0:fifth*4], featuresets[fifth*4:fifth*5], featuresets[fifth*4:]\n",
    "    train_items, dev_items, test_items = items[0:fifth*4], items[fifth*4:fifth*5], items[fifth*4:]\n",
    "    if return_items == True:\n",
    "        return train_set, dev_set, test_set, train_items, dev_items, test_items\n",
    "    else:\n",
    "        return train_set, dev_set, test_set"
   ]
  },
  {
   "cell_type": "code",
   "execution_count": 56,
   "metadata": {
    "collapsed": false
   },
   "outputs": [
    {
     "data": {
      "text/plain": [
       "3"
      ]
     },
     "execution_count": 56,
     "metadata": {},
     "output_type": "execute_result"
    }
   ],
   "source": [
    "len(test_set)"
   ]
  },
  {
   "cell_type": "code",
   "execution_count": 31,
   "metadata": {
    "collapsed": false
   },
   "outputs": [
    {
     "data": {
      "text/html": [
       "<div>\n",
       "<table border=\"1\" class=\"dataframe\">\n",
       "  <thead>\n",
       "    <tr style=\"text-align: right;\">\n",
       "      <th></th>\n",
       "      <th>Phrase</th>\n",
       "      <th>Label</th>\n",
       "    </tr>\n",
       "  </thead>\n",
       "  <tbody>\n",
       "    <tr>\n",
       "      <th>0</th>\n",
       "      <td>stormy applause</td>\n",
       "      <td>metaphor</td>\n",
       "    </tr>\n",
       "    <tr>\n",
       "      <th>1</th>\n",
       "      <td>clean government</td>\n",
       "      <td>metaphor</td>\n",
       "    </tr>\n",
       "    <tr>\n",
       "      <th>2</th>\n",
       "      <td>woman suffer pain</td>\n",
       "      <td>NOT metaphor</td>\n",
       "    </tr>\n",
       "    <tr>\n",
       "      <th>3</th>\n",
       "      <td>filthy garment</td>\n",
       "      <td>NOT metaphor</td>\n",
       "    </tr>\n",
       "    <tr>\n",
       "      <th>4</th>\n",
       "      <td>silky voice</td>\n",
       "      <td>metaphor</td>\n",
       "    </tr>\n",
       "  </tbody>\n",
       "</table>\n",
       "</div>"
      ],
      "text/plain": [
       "               Phrase         Label\n",
       "0     stormy applause      metaphor\n",
       "1    clean government      metaphor\n",
       "2   woman suffer pain  NOT metaphor\n",
       "3      filthy garment  NOT metaphor\n",
       "4         silky voice      metaphor"
      ]
     },
     "execution_count": 31,
     "metadata": {},
     "output_type": "execute_result"
    }
   ],
   "source": [
    "dataset_df = pd.read_csv(\"all_an_data.csv\")\n",
    "dataset_df.head()"
   ]
  },
  {
   "cell_type": "code",
   "execution_count": 32,
   "metadata": {
    "collapsed": false
   },
   "outputs": [
    {
     "name": "stdout",
     "output_type": "stream",
     "text": [
      "               Phrase         Label\n",
      "0     stormy applause      metaphor\n",
      "1    clean government      metaphor\n",
      "2   woman suffer pain  NOT metaphor\n",
      "3      filthy garment  NOT metaphor\n",
      "4         silky voice      metaphor\n",
      "stormy applause\n",
      "[('stormy applause', 'metaphor'), ('  clean government', 'metaphor'), ('woman suffer pain', 'NOT metaphor'), ('filthy garment', 'NOT metaphor'), ('silky voice', 'metaphor'), ('temperature break number', 'metaphor'), ('tragedy strike community', 'metaphor'), ('woolly liberal', 'metaphor'), ('thirsty camel', 'NOT metaphor'), ('army bury soldier', 'NOT metaphor'), ('empty promise', 'metaphor'), ('stony ridge', 'NOT metaphor'), ('framework bury initiative', 'metaphor'), ('strong bone', 'NOT metaphor'), ('cloudy future', 'metaphor'), ('pronoun grab towel', 'NOT metaphor'), ('firm mattress', 'NOT metaphor'), ('person smile none', 'NOT metaphor'), ('change shake confidence', 'metaphor'), ('bride dream none', 'NOT metaphor'), ('foot slip none', 'NOT metaphor'), ('teenager wear attitude', 'metaphor'), ('murky past', 'metaphor'), ('rosy outlook', 'metaphor'), ('pronoun kick addiction', 'metaphor'), ('heavy tax', 'metaphor'), ('red alert', 'metaphor'), ('cold reality', 'metaphor'), ('sad sack', 'metaphor'), ('ripe age', 'metaphor'), ('statement sit', 'metaphor'), ('clear explanation', 'metaphor'), ('high altitude', 'NOT metaphor'), ('bright sunlight', 'NOT metaphor'), ('breezy veranda', 'NOT metaphor'), ('accident wait', 'metaphor'), ('  knock confidence', 'metaphor'), ('frosty relation', 'metaphor'), ('misha walk dog', 'NOT metaphor'), ('large group', 'NOT metaphor'), ('huge number', 'NOT metaphor'), ('wild speculation', 'metaphor'), ('patient tear cuff', 'NOT metaphor'), ('smoky flavor', 'NOT metaphor'), ('man lay blame', 'metaphor'), ('stomach hurt none', 'NOT metaphor'), ('stony silence', 'metaphor'), ('luck love pronoun', 'metaphor'), ('economy shrug impact', 'metaphor'), ('woolly mammoth', 'NOT metaphor'), ('young boy', 'NOT metaphor'), ('blind alley', 'metaphor'), ('man nod approval', 'NOT metaphor'), ('rumor spread', 'metaphor'), ('hot topic', 'metaphor'), ('circumstance demand translation', 'metaphor'), ('murkowski push legislation', 'metaphor'), ('wet dream', 'metaphor'), ('stale bread', 'NOT metaphor'), ('fuzzy logic', 'metaphor'), ('spicy language', 'metaphor'), ('tame reindeer', 'NOT metaphor'), ('steam push piston', 'NOT metaphor'), ('driver drive none', 'NOT metaphor'), ('column rise none', 'NOT metaphor'), ('unruly hair', 'metaphor'), ('head hit ground', 'NOT metaphor'), ('dumb luck', 'metaphor'), ('iran launch satellite', 'NOT metaphor'), ('insurance cover care', 'metaphor'), ('pride burst', 'metaphor'), ('rich history', 'metaphor'), ('clean conscience', 'metaphor'), ('black dress', 'NOT metaphor'), ('pronoun shrug shoulder', 'NOT metaphor'), ('cold beer', 'NOT metaphor'), ('pronoun bring food', 'NOT metaphor'), ('none attach hose', 'NOT metaphor'), ('icy road', 'NOT metaphor'), ('bomber blow vehicle', 'NOT metaphor'), ('unruly behavior', 'NOT metaphor'), ('pronoun shoot proposal', 'metaphor'), ('shallow argument', 'metaphor'), ('mad sprint', 'metaphor'), ('bloody stupidity', 'metaphor'), ('engineer steal secret', 'NOT metaphor'), ('tear roll none', 'NOT metaphor'), ('pure cotton', 'NOT metaphor'), ('shrill rhetoric', 'metaphor'), ('old boy', 'metaphor'), ('material live dream', 'metaphor'), ('thin layer', 'NOT metaphor'), ('bridge collapse none', 'NOT metaphor'), ('cool air', 'NOT metaphor'), ('battle tear party', 'metaphor'), ('income fall', 'metaphor'), ('clear sky', 'NOT metaphor'), ('dry wit', 'metaphor'), ('life rush', 'metaphor'), ('battery die', 'metaphor'), ('spicy sausage', 'NOT metaphor'), ('none beat egg', 'NOT metaphor'), ('quiet revolution', 'metaphor'), ('scientist think none', 'NOT metaphor'), ('rough draft', 'metaphor'), ('state lean republican', 'metaphor'), ('muddy thinking', 'metaphor'), ('computer slip coma', 'metaphor'), ('ladder touch ground', 'NOT metaphor'), ('airport swim money', 'metaphor'), ('clean air', 'NOT metaphor'), ('car break none', 'NOT metaphor'), ('shiny goal', 'metaphor'), ('pronoun meet girl', 'NOT metaphor'), ('resumption bring relief', 'metaphor'), ('healthy body', 'NOT metaphor'), ('spending hurt economy', 'metaphor'), ('sleepy town', 'metaphor'), ('green energy', 'metaphor'), ('smoky alto', 'metaphor'), ('icy glare', 'metaphor'), ('sour mood', 'metaphor'), ('miranda open mouth', 'NOT metaphor'), ('shaky ladder', 'NOT metaphor'), ('association strike fancy', 'metaphor'), ('stranger approach pronoun', 'NOT metaphor'), ('century see development', 'metaphor'), ('sweet smile', 'metaphor'), ('person love none', 'NOT metaphor'), ('shark swim none', 'NOT metaphor'), ('envy eat', 'metaphor'), ('reporter rush scene', 'NOT metaphor'), ('silence speak volume', 'metaphor'), ('society wake', 'metaphor'), ('foggy night', 'NOT metaphor'), ('police close road', 'NOT metaphor'), ('shaky ceasefire', 'metaphor'), ('honest opinion', 'NOT metaphor'), ('fortune smile pronoun', 'metaphor'), ('mad man', 'NOT metaphor'), ('bright idea', 'metaphor'), ('bubbly champagne', 'NOT metaphor'), ('kicker kick football', 'NOT metaphor'), ('person step none', 'NOT metaphor'), ('  shut brain', 'metaphor'), ('sunny day', 'NOT metaphor'), ('pronoun fill bottle', 'NOT metaphor'), ('sick joke', 'metaphor'), ('man sweep floor', 'NOT metaphor'), ('greasy burger', 'NOT metaphor'), ('lame beggar', 'NOT metaphor'), ('pronoun tie ribbon', 'NOT metaphor'), ('creativity flow', 'metaphor'), ('unemployment climb', 'metaphor'), ('pharmacist lean none', 'NOT metaphor'), ('none feed cow', 'NOT metaphor'), ('adventure feed imagination', 'metaphor'), ('dean slip knife', 'NOT metaphor'), ('submarine sink ship', 'NOT metaphor'), ('blunt knife', 'NOT metaphor'), ('shady tactics', 'metaphor'), ('dark laughter', 'metaphor'), ('lame excuse', 'metaphor'), ('rusty brain', 'metaphor'), ('idea travel', 'metaphor'), ('couple lay wreath', 'NOT metaphor'), ('bomber kill person', 'NOT metaphor'), ('hawaii kill  proposal', 'metaphor'), ('bald eagle', 'NOT metaphor'), ('tame version', 'metaphor'), ('strong presence', 'metaphor'), ('government dream regulation', 'metaphor'), ('opponent attack credibility', 'metaphor'), ('bus arrive none', 'NOT metaphor'), ('competition drop price', 'metaphor'), ('person turn none', 'NOT metaphor'), ('immigrant settle hawaii', 'NOT metaphor'), ('slim picking', 'metaphor'), ('pedestrian walk none', 'NOT metaphor'), ('  blow paycheck', 'metaphor'), ('shallow grave', 'NOT metaphor'), ('firm conviction', 'metaphor'), ('visitor enter room', 'NOT metaphor'), ('baby sleep none', 'NOT metaphor'), ('romney sweep primary', 'metaphor'), ('warm reception', 'metaphor'), ('headline scream', 'metaphor'), ('congress sleep', 'metaphor'), ('frosty morning', 'NOT metaphor'), ('cold weather', 'NOT metaphor'), ('fiery crash', 'NOT metaphor'), ('ripe banana', 'NOT metaphor'), ('soft leadership', 'metaphor'), ('brown rice', 'NOT metaphor'), ('workman dig pond', 'NOT metaphor'), ('man go city', 'NOT metaphor'), ('bundestag lift ban', 'metaphor'), ('pronoun land internship', 'metaphor'), ('good idea', 'NOT metaphor'), ('fat chance', 'metaphor'), ('pronoun catch flight', 'metaphor'), ('gold coin', 'NOT metaphor'), ('human survive none', 'NOT metaphor'), ('jim close book', 'NOT metaphor'), ('  tie destiny', 'metaphor'), ('prisoner escape jail', 'NOT metaphor'), ('bolt refuse', 'metaphor'), ('landlord refuse none', 'NOT metaphor'), ('data point pain', 'metaphor'), ('clump nod', 'metaphor'), ('muddy puddle', 'NOT metaphor'), ('ship carry passenger', 'NOT metaphor'), ('man shake head', 'NOT metaphor'), ('dirty diaper', 'NOT metaphor'), ('advertiser pull ad', 'metaphor'), ('helicopter land snow', 'NOT metaphor'), ('pirate attack ship', 'NOT metaphor'), ('cool feature', 'metaphor'), ('bernake lean congress', 'metaphor'), ('salesman knock door', 'NOT metaphor'), ('slimy slug', 'NOT metaphor'), ('stale cliché', 'metaphor'), ('smoke arise none', 'NOT metaphor'), ('father die none', 'NOT metaphor'), ('ill patient', 'NOT metaphor'), ('car decide', 'metaphor'), ('fresh thinking', 'metaphor'), ('young moon', 'metaphor'), ('truck drink', 'metaphor'), ('tight budget', 'metaphor'), ('none clean stain', 'NOT metaphor'), ('service meet expectation', 'metaphor'), ('none lean head', 'NOT metaphor'), ('none spread glue', 'NOT metaphor'), ('lean budget', 'metaphor'), ('thunder wake pronoun', 'NOT metaphor'), ('pronoun press advantage', 'metaphor'), ('blunt honesty', 'metaphor'), ('pronoun wash sin', 'metaphor'), ('passenger travel none', 'NOT metaphor'), ('rumor fly', 'metaphor'), ('thirsty sponge', 'metaphor'), ('lava flow none', 'NOT metaphor'), ('class slide poverty', 'metaphor'), ('court hand victory', 'metaphor'), ('fate step', 'metaphor'), ('success ride service', 'metaphor'), ('tight pant', 'NOT metaphor'), ('cult dig activity', 'metaphor'), ('juicy scandal', 'metaphor'), ('honest meal', 'metaphor'), ('low tree', 'NOT metaphor'), ('angry welt', 'metaphor'), ('deep understanding', 'metaphor'), ('black humor', 'metaphor'), ('horse run none', 'NOT metaphor'), ('quiet voice', 'NOT metaphor'), ('rich businessman', 'NOT metaphor'), ('son break window', 'NOT metaphor'), ('rocky beginning', 'metaphor'), ('straight answer', 'metaphor'), ('antena point direction', 'NOT metaphor'), ('pronoun catch salmon', 'NOT metaphor'), ('thief steal photo', 'NOT metaphor'), ('speech sink candidacy', 'metaphor'), ('protester demand none', 'NOT metaphor'), ('economy move direction', 'metaphor'), ('politician talk none', 'NOT metaphor'), ('none lift leg', 'NOT metaphor'), ('lebanese throw rock', 'NOT metaphor'), ('dead animal', 'NOT metaphor'), ('professional stretch truth', 'metaphor'), ('person stare stone', 'NOT metaphor'), ('police close investigation', 'metaphor'), ('blind man', 'NOT metaphor'), ('rough terrain', 'NOT metaphor'), ('solution marry idea', 'metaphor'), ('future hang', 'metaphor'), ('raw meat', 'NOT metaphor'), ('product hit market', 'metaphor'), ('heart cry', 'metaphor'), ('thick slice', 'NOT metaphor'), ('communism collapse', 'metaphor'), ('heavy load', 'NOT metaphor'), ('healthy balance', 'metaphor'), ('slimy salesman', 'metaphor'), ('pronoun close deal', 'metaphor'), ('horse pull head', 'NOT metaphor'), ('small town', 'NOT metaphor'), ('windy night', 'NOT metaphor'), ('weak muscle', 'NOT metaphor'), ('shady tree', 'NOT metaphor'), ('hollow mockery', 'metaphor'), ('white anger', 'metaphor'), ('filthy mind', 'metaphor'), ('pronoun climb stairs', 'NOT metaphor'), ('judge decide none', 'NOT metaphor'), ('purple flower', 'NOT metaphor'), ('cowboy ride none', 'NOT metaphor'), ('old man', 'NOT metaphor'), ('shrill voice', 'NOT metaphor'), ('child live none', 'NOT metaphor'), ('funding dry', 'metaphor'), ('wet towel', 'NOT metaphor'), ('texan break record', 'metaphor'), ('electronics drive innovation', 'metaphor'), ('rosy cheek', 'NOT metaphor'), ('straight edge', 'NOT metaphor'), ('drawer slide none', 'NOT metaphor'), ('bar support weight', 'NOT metaphor'), ('smooth surface', 'NOT metaphor'), ('hairy problem', 'metaphor'), ('bubbly actress', 'metaphor'), ('brown threat', 'metaphor'), ('slim waist', 'NOT metaphor'), ('car complain', 'metaphor'), ('depression drag market', 'metaphor'), ('paint dry none', 'NOT metaphor'), ('empty can', 'NOT metaphor'), ('raw emotion', 'metaphor'), ('money walk', 'metaphor'), ('apple roll commercial', 'metaphor'), ('excitement fill street', 'metaphor'), ('camel drink water', 'NOT metaphor'), ('daughter marry man', 'NOT metaphor'), ('stock jump', 'metaphor'), ('bloody nose', 'NOT metaphor'), ('object move none', 'NOT metaphor'), ('angry protester', 'NOT metaphor'), ('electorate swing', 'metaphor'), ('silky satin', 'NOT metaphor'), ('sour cherry', 'NOT metaphor'), ('cloudy weather', 'NOT metaphor'), ('conversation turn subject', 'metaphor'), ('heavy fighting', 'metaphor'), ('dumb student', 'NOT metaphor'), ('steep discount', 'metaphor'), ('boy cry none', 'NOT metaphor'), ('narrow mind', 'metaphor'), ('cat sit none', 'NOT metaphor'), ('reviewer complain none', 'NOT metaphor'), ('solution stare face', 'metaphor'), ('beth stick tongue', 'NOT metaphor'), ('plane fly none', 'NOT metaphor'), ('short walk', 'NOT metaphor'), ('pronoun cut grass', 'NOT metaphor'), ('fat call', 'NOT metaphor'), ('hot chocolate', 'NOT metaphor'), ('tall tale', 'metaphor'), ('sunny disposition', 'metaphor'), ('foggy brain', 'metaphor'), ('dread settle', 'metaphor'), ('action talk', 'metaphor'), ('fuzzy blanket', 'NOT metaphor'), ('sick child', 'NOT metaphor'), ('overtime burn goodwill', 'metaphor'), ('data beat expectation', 'metaphor'), ('thriller stick landing', 'metaphor'), ('deep sea', 'NOT metaphor'), ('rocky terrain', 'NOT metaphor'), ('fiery temper', 'metaphor'), ('olmert grab opportunity', 'metaphor'), ('doctor say none', 'NOT metaphor'), ('frank stretch arm', 'NOT metaphor'), ('hollow cylinder', 'NOT metaphor'), ('statue stand none', 'NOT metaphor'), ('dry skin', 'NOT metaphor'), ('blunder escape notice', 'metaphor'), ('candle burn none', 'NOT metaphor'), ('hard plastic', 'NOT metaphor'), ('pronoun fight hunger', 'metaphor'), ('big city', 'NOT metaphor'), ('dirty word', 'metaphor'), ('sparse vegetation', 'NOT metaphor'), ('midwesterner spread wealth', 'metaphor'), ('tori throw tantrum', 'metaphor'), ('steep hill', 'NOT metaphor'), ('state cut spending', 'metaphor'), ('hairy armpit', 'NOT metaphor'), ('juicy steak', 'NOT metaphor'), ('pronoun wear helmet', 'NOT metaphor'), ('kindness touch pronoun', 'metaphor'), ('smooth operation', 'metaphor'), ('weak password', 'metaphor'), ('schedule slip', 'metaphor'), ('economy sail', 'metaphor'), ('windy rhetoric', 'metaphor'), ('pronoun hand key', 'NOT metaphor'), ('hard truth', 'metaphor'), ('white sand', 'NOT metaphor'), ('volunteer welcome visitor', 'NOT metaphor'), ('breezy disregard', 'metaphor'), ('firework burst none', 'NOT metaphor'), ('purple prose', 'metaphor'), ('bald assertion', 'metaphor'), ('result steal show', 'metaphor'), ('fish jump none', 'NOT metaphor'), ('small comfort', 'metaphor'), ('bare outline', 'metaphor'), ('pronoun drag suitcase', 'NOT metaphor'), ('leaf fall none', 'NOT metaphor'), ('student raise hand', 'NOT metaphor'), ('broad shoulder', 'NOT metaphor'), ('crowd scream none', 'NOT metaphor'), ('thin excuse', 'metaphor'), ('greasy smile', 'metaphor'), ('warm bath', 'NOT metaphor'), ('unemployment stand', 'metaphor'), ('pronoun walk document', 'metaphor'), ('tablet steal spotlight', 'metaphor'), ('marriage survive problem', 'metaphor'), ('sweet potato', 'NOT metaphor'), ('shiny silver', 'NOT metaphor'), ('pronoun eat breakfast', 'NOT metaphor'), ('stormy sea', 'NOT metaphor'), ('thick accent', 'metaphor'), ('court attach meaning', 'metaphor'), ('pronoun grow vegetables', 'NOT metaphor'), ('bicycle suffer damage', 'metaphor'), ('dead giveaway', 'metaphor'), ('soft leather', 'NOT metaphor'), ('green vegetable', 'NOT metaphor')]\n"
     ]
    }
   ],
   "source": [
    "print(dataset_df.head())\n",
    "items = []\n",
    "print(dataset_df[\"Phrase\"][0])\n",
    "for index in range(len(dataset_df)):\n",
    "    items.append((dataset_df[\"Phrase\"][index], dataset_df[\"Label\"][index]))\n",
    "print(items)\n",
    "    "
   ]
  },
  {
   "cell_type": "code",
   "execution_count": 42,
   "metadata": {
    "collapsed": false
   },
   "outputs": [],
   "source": [
    "train_set, dev_set, test_set, train_items, dev_items, test_items = create_training_sets(generate_features, items, True)\n",
    "# cl4 = nltk.NaiveBayesClassifier.train(train_set4)\n",
    "# This is code from the NLTK chapter\n",
    "errors = []\n",
    "# print (\"%.3f\" % nltk.classify.accuracy(cl4, dev_set4))"
   ]
  },
  {
   "cell_type": "code",
   "execution_count": 43,
   "metadata": {
    "collapsed": false
   },
   "outputs": [
    {
     "name": "stdout",
     "output_type": "stream",
     "text": [
      "ship carry passenger\n"
     ]
    }
   ],
   "source": [
    "# print (\"%.3f\" % nltk.classify.accuracy(cl4, test_set4))\n",
    "# print(train_set4[0][1])\n",
    "# print(test_set4[:2])\n",
    "test_set_features = np.asarray([item[0] for item in test_set])\n",
    "train_set_features = np.asarray([item[0] for item in train_set])\n",
    "test_set_names = np.asarray([item[2] for item in test_set])\n",
    "train_set_names = np.asarray([item[2] for item in train_set])\n",
    "test_set_labels = np.asarray([item[1] for item in test_set])\n",
    "train_set_labels = np.asarray([item[1] for item in train_set])\n",
    "\n",
    "train_set = {}\n",
    "train_set[\"features\"] = train_set_features\n",
    "train_set[\"names\"] = train_set_names\n",
    "train_set[\"labels\"] = train_set_labels\n",
    "\n",
    "test_set = {}\n",
    "test_set[\"features\"] = test_set_features\n",
    "test_set[\"names\"] = test_set_names\n",
    "test_set[\"labels\"] = test_set_labels\n",
    "\n",
    "print(test_set[\"names\"][0])\n",
    "\n"
   ]
  },
  {
   "cell_type": "code",
   "execution_count": 44,
   "metadata": {
    "collapsed": true
   },
   "outputs": [],
   "source": [
    "def create_manual_test_set(manual_list, generate_features):\n",
    "    manual_set = [(generate_features(key), value, key) for (key, value) in manual_list]\n",
    "    test_set_features = np.asarray([item[0] for item in manual_set])\n",
    "    test_set_labels = np.asarray([item[1] for item in manual_set])\n",
    "    test_set_names = np.asarray([item[2] for item in manual_set])\n",
    "    manual_set_dict = {}\n",
    "    manual_set_dict[\"features\"] = test_set_features\n",
    "    manual_set_dict[\"names\"] = test_set_names\n",
    "    manual_set_dict[\"labels\"] = test_set_labels\n",
    "    return manual_set_dict"
   ]
  },
  {
   "cell_type": "code",
   "execution_count": 45,
   "metadata": {
    "collapsed": false
   },
   "outputs": [],
   "source": [
    "\n",
    "class ItemSelector(BaseEstimator, TransformerMixin):\n",
    "    \"\"\"For data grouped by feature, select subset of data at a provided key.\n",
    "\n",
    "    The data is expected to be stored in a 2D data structure, where the first\n",
    "    index is over features and the second is over samples.  i.e.\n",
    "\n",
    "    >> len(data[key]) == n_samples\n",
    "\n",
    "    Please note that this is the opposite convention to scikit-learn feature\n",
    "    matrixes (where the first index corresponds to sample).\n",
    "\n",
    "    ItemSelector only requires that the collection implement getitem\n",
    "    (data[key]).  Examples include: a dict of lists, 2D numpy array, Pandas\n",
    "    DataFrame, numpy record array, etc.\n",
    "\n",
    "    >> data = {'a': [1, 5, 2, 5, 2, 8],\n",
    "               'b': [9, 4, 1, 4, 1, 3]}\n",
    "    >> ds = ItemSelector(key='a')\n",
    "    >> data['a'] == ds.transform(data)\n",
    "\n",
    "    ItemSelector is not designed to handle data grouped by sample.  (e.g. a\n",
    "    list of dicts).  If your data is structured this way, consider a\n",
    "    transformer along the lines of `sklearn.feature_extraction.DictVectorizer`.\n",
    "\n",
    "    Parameters\n",
    "    ----------\n",
    "    key : hashable, required\n",
    "        The key corresponding to the desired value in a mappable.\n",
    "    \"\"\"\n",
    "    def __init__(self, key):\n",
    "        self.key = key\n",
    "\n",
    "    def fit(self, x, y=None):\n",
    "        return self\n",
    "\n",
    "    def transform(self, data_dict):\n",
    "#         print(data_dict)\n",
    "        return data_dict[self.key]"
   ]
  },
  {
   "cell_type": "code",
   "execution_count": 60,
   "metadata": {
    "collapsed": false
   },
   "outputs": [
    {
     "data": {
      "text/plain": [
       "0.52325581395348841"
      ]
     },
     "execution_count": 60,
     "metadata": {},
     "output_type": "execute_result"
    }
   ],
   "source": [
    "kaggle_classifier = Pipeline([('union', FeatureUnion(\n",
    "                                    transformer_list=[\n",
    "\n",
    "                                        # Pipeline for pulling features from the post's subject line\n",
    "                                        ('names', Pipeline([\n",
    "                                            ('selector', ItemSelector(key='names')),\n",
    "                                            ('tfidf', TfidfVectorizer(analyzer='char', ngram_range=(2,3), sublinear_tf=True)),\n",
    "                                        ])),\n",
    "\n",
    "                                        # Pipeline for standard bag-of-words model for body\n",
    "                                        ('features', Pipeline([\n",
    "                                            ('selector', ItemSelector(key='features')),\n",
    "                                            ('dict', DictVectorizer(sparse='False'))\n",
    "                                        ])),\n",
    "\n",
    "                                    ],\n",
    "\n",
    "                                    # weight components in FeatureUnion\n",
    "                                    transformer_weights={\n",
    "                                        'names': 0.2,\n",
    "                                        'features': 0.8,\n",
    "                                    },\n",
    "                                )),\n",
    "\n",
    "                                # Use a SVC classifier on the combined features\n",
    "                                ('svc', LinearSVC()),\n",
    "                            ])\n",
    "kaggle_classifier = kaggle_classifier.fit(train_set,train_set_labels)\n",
    "    \n",
    "kaggle_predictions = kaggle_classifier.predict(test_set)\n",
    "\n",
    "accuracy_score(test_set_labels, kaggle_predictions)"
   ]
  },
  {
   "cell_type": "code",
   "execution_count": 47,
   "metadata": {
    "collapsed": false
   },
   "outputs": [
    {
     "name": "stdout",
     "output_type": "stream",
     "text": [
      "{'features': array([{'NN': 1}], dtype=object), 'names': array(['dividend'], \n",
      "      dtype='<U8'), 'labels': array([ True], dtype=bool)}\n",
      "['metaphor']\n"
     ]
    }
   ],
   "source": [
    "# kaggle_classifier.predict([\"viz a viz\", \"tete a tete\", \"locker\", \"scrum\", \"scalar\", \"table\"])\n",
    "manual_list = [(\"dividend\", True)]\n",
    "manual_test_dict = create_manual_test_set(manual_list, generate_features)\n",
    "print(manual_test_dict)\n",
    "manual_predictions = kaggle_classifier.predict(manual_test_dict)\n",
    "print(manual_predictions)"
   ]
  },
  {
   "cell_type": "code",
   "execution_count": 48,
   "metadata": {
    "collapsed": false
   },
   "outputs": [
    {
     "data": {
      "text/plain": [
       "0.51162790697674421"
      ]
     },
     "execution_count": 48,
     "metadata": {},
     "output_type": "execute_result"
    }
   ],
   "source": [
    "kaggle_classifier = Pipeline([('tfidfvect', TfidfVectorizer(analyzer='char', ngram_range=(2,4), sublinear_tf=True)),\n",
    "#                                     ('feat',SelectKBest(chi2, 5)),\n",
    "                                    ('classifier', LinearSVC())\n",
    "                                   ])\n",
    "kaggle_classifier = kaggle_classifier.fit(train_set_names,train_set_labels)\n",
    "    \n",
    "kaggle_predictions = kaggle_classifier.predict(test_set_names)\n",
    "\n",
    "accuracy_score(test_set_labels, kaggle_predictions)"
   ]
  },
  {
   "cell_type": "code",
   "execution_count": 16,
   "metadata": {
    "collapsed": true
   },
   "outputs": [],
   "source": [
    "def test_manual_predictions(manual_list):\n",
    "    manual_test_dict = create_manual_test_set(manual_list, generate_features)\n",
    "    manual_predictions = kaggle_classifier.predict(manual_test_dict)\n",
    "    print(manual_predictions)\n",
    "    \n",
    "    "
   ]
  },
  {
   "cell_type": "code",
   "execution_count": 17,
   "metadata": {
    "collapsed": false
   },
   "outputs": [
    {
     "name": "stdout",
     "output_type": "stream",
     "text": [
      "[ True  True False False False]\n"
     ]
    }
   ],
   "source": [
    "# The True/False bit of the Tuple only needs to be accurate if you plan to test the accuracy using accuracy_score, \n",
    "# else it isn't considered.\n",
    "manual_list = [(\"viz a viz\", True), (\"tete a tete\",False), (\"bottomline\", True), (\"ibuprofin\", True), (\"uninterested\", False)]\n",
    "test_manual_predictions(manual_list)\n"
   ]
  },
  {
   "cell_type": "code",
   "execution_count": 18,
   "metadata": {
    "collapsed": false
   },
   "outputs": [
    {
     "data": {
      "text/plain": [
       "['linear_jargon_classifier.pkl']"
      ]
     },
     "execution_count": 18,
     "metadata": {},
     "output_type": "execute_result"
    }
   ],
   "source": [
    "joblib.dump(kaggle_classifier, 'linear_jargon_classifier.pkl') "
   ]
  },
  {
   "cell_type": "code",
   "execution_count": null,
   "metadata": {
    "collapsed": true
   },
   "outputs": [],
   "source": []
  }
 ],
 "metadata": {
  "anaconda-cloud": {},
  "kernelspec": {
   "display_name": "Python [Root]",
   "language": "python",
   "name": "Python [Root]"
  },
  "language_info": {
   "codemirror_mode": {
    "name": "ipython",
    "version": 3
   },
   "file_extension": ".py",
   "mimetype": "text/x-python",
   "name": "python",
   "nbconvert_exporter": "python",
   "pygments_lexer": "ipython3",
   "version": "3.5.2"
  }
 },
 "nbformat": 4,
 "nbformat_minor": 1
}
